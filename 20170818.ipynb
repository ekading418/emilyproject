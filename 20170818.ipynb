{
 "cells": [
  {
   "cell_type": "code",
   "execution_count": 66,
   "metadata": {},
   "outputs": [],
   "source": [
    "#Data compiled from:  UNESCO Research and experimental development(full dataset)/\n",
    "#http://data.uis.unesco.org/ , UN World Happiness Report (Chapter 2) /\n",
    "#http://worldhappiness.report/download/ , \n",
    "\n",
    "import numpy as np\n",
    "import pandas as pd\n",
    "import matplotlib.pyplot as plt\n",
    "%matplotlib inline\n",
    "\n",
    "### A function I wrote to eliminate non-null data:\n",
    "def test_if_null(list):\n",
    "    new_list = []\n",
    "    for row in list:\n",
    "        if pd.isnull(row) == False:\n",
    "            new_list.append(row)\n",
    "    return new_list\n",
    "#####\n",
    "\n",
    "\n",
    "wis_data = pd.read_csv(\"C:\\\\Users\\\\ThePuckMonkey\\\\Desktop\\\\Emily\\\\20170808\\\\20170808_WIS.csv\")\n",
    "type(wis_data)\n",
    "first_rows = wis_data.head()\n",
    "last_rows = wis_data.tail()\n",
    "column_names = wis_data.columns\n",
    "dimensions = wis_data.shape\n",
    "num_rows = dimensions[0]\n",
    "num_cols = dimensions[1]\n",
    "countries = set(wis_data[\"country\"])\n",
    "years = set(wis_data[\"year\"])\n",
    "life_ladder = wis_data[\"Life Ladder\"]\n",
    "log_gdp = wis_data[\"Log GDP per capita\"]\n",
    "generosity = wis_data[\"Generosity\"]\n",
    "femaleRD = wis_data[\"%Female in R&D\"]\n",
    "fertility = wis_data[\"Fertility rate, total (births per woman)\"]\n",
    "normalized_life_ladder = life_ladder/life_ladder.max()\n",
    "normalized_log_gdp = log_gdp/log_gdp.max()\n",
    "normalized_generosity = generosity/generosity.max()\n",
    "normalized_femaleRD = femaleRD/femaleRD.max()\n",
    "normalized_fertility = fertility/fertility.max()\n",
    "wis_data[\"Normalized_Life_Ladder\"] = normalized_life_ladder\n",
    "wis_data[\"Normalized_femaleRD\"] = normalized_femaleRD\n",
    "wis_data[\"Normalized_generosity\"] = normalized_generosity\n",
    "wis_data[\"Normalized_log_gdp\"] = normalized_log_gdp\n",
    "wis_data[\"Normalized_Female_RD\"] = wis_data[\"%Female in R&D\"]/100\n",
    "fixed_life_ladder = pd"
   ]
  },
  {
   "cell_type": "code",
   "execution_count": 81,
   "metadata": {},
   "outputs": [],
   "source": [
    "japan_only = wis_data[\"country\"] == \"Japan\"\n",
    "japan_data = wis_data[japan_only]\n",
    "armenia_only = wis_data[\"country\"] == \"Armenia\"\n",
    "armenia_data = wis_data[armenia_only]"
   ]
  },
  {
   "cell_type": "code",
   "execution_count": 88,
   "metadata": {},
   "outputs": [
    {
     "data": {
      "text/plain": [
       "<matplotlib.legend.Legend at 0x217f738b470>"
      ]
     },
     "execution_count": 88,
     "metadata": {},
     "output_type": "execute_result"
    },
    {
     "data": {
      "image/png": "[encoded data removed]",
      "text/plain": [
       "<matplotlib.figure.Figure at 0x217f71264e0>"
      ]
     },
     "metadata": {},
     "output_type": "display_data"
    }
   ],
   "source": [
    "fig = plt.figure()\n",
    "plt.plot(japan_data[\"year\"], armenia_data[\"Normalized_Female_RD\"] , c = \"red\", label = \"Armenia % Female in R&D\")\n",
    "plt.plot(japan_data[\"year\"], japan_data[\"Normalized_Female_RD\"], c = \"blue\", label = \"Japan % Female in R&D\")\n",
    "\n",
    "plt.legend(loc = 'upper left')"
   ]
  },
  {
   "cell_type": "code",
   "execution_count": null,
   "metadata": {
    "collapsed": true
   },
   "outputs": [],
   "source": []
  }
 ],
 "metadata": {
  "kernelspec": {
   "display_name": "Python 3",
   "language": "python",
   "name": "python3"
  },
  "language_info": {
   "codemirror_mode": {
    "name": "ipython",
    "version": 3
   },
   "file_extension": ".py",
   "mimetype": "text/x-python",
   "name": "python",
   "nbconvert_exporter": "python",
   "pygments_lexer": "ipython3",
   "version": "3.6.1"
  }
 },
 "nbformat": 4,
 "nbformat_minor": 2
}
